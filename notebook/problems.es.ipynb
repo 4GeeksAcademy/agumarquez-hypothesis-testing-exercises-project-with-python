{
 "cells": [
  {
   "cell_type": "markdown",
   "id": "d9d036c6",
   "metadata": {},
   "source": [
    "# Problemas de prueba de hipótesis"
   ]
  },
  {
   "cell_type": "markdown",
   "id": "d157c4db",
   "metadata": {},
   "source": [
    "## Ejercicio 1\n",
    "\n",
    "Usted es un nutricionista que investiga dos tipos diferentes de dietas para ver si existe una diferencia significativa en la pérdida de peso después de un mes. Eliges dos grupos aleatorios de personas; un grupo sigue la primera dieta y el otro sigue la segunda. Al final del mes, se registra la pérdida de peso (en kg) de cada persona:\n",
    "\n",
    "| Diet 1 | Diet 2 |\n",
    "|:-------|:-------|\n",
    "| 2.0 | 3.0 |\n",
    "| 2.5 | 3.2 |\n",
    "| 3.0 | 3.1 |\n",
    "| 2.8 | 2.9 |\n",
    "| 2.3 | 2.8 |\n",
    "| 2.7 | 3.0 |\n",
    "| 2.5 | 3.2 |\n",
    "\n",
    "Con estos datos se busca responder a la siguiente pregunta: ¿Existe una diferencia significativa en la pérdida de peso promedio entre las personas que siguieron la primera dieta y las que siguieron la segunda dieta?\n",
    "\n",
    "Para sacar conclusiones, siga los siguientes puntos:\n",
    "\n",
    "-Enunciar la hipótesis: hipótesis nula y alternativa.\n",
    "-Realizar la prueba para comprobar la hipótesis. Puede utilizar la prueba t de Student.\n",
    "-Analizar las conclusiones."
   ]
  },
  {
   "cell_type": "markdown",
   "id": "55201b1c",
   "metadata": {},
   "source": [
    "Enunciado de hipotesis:\n",
    "H0 = No hay diferencias de perdida de peso significativa entre las 2 dietas\n",
    "H1 = Hay diferencia significativa entre las 2 dietas\n"
   ]
  },
  {
   "cell_type": "code",
   "execution_count": 3,
   "id": "a0e4305b",
   "metadata": {},
   "outputs": [],
   "source": [
    "import scipy.stats as stats\n",
    "from scipy.stats import ttest_ind\n",
    "import numpy as np"
   ]
  },
  {
   "cell_type": "code",
   "execution_count": 5,
   "id": "8e0f3cf0",
   "metadata": {},
   "outputs": [
    {
     "name": "stdout",
     "output_type": "stream",
     "text": [
      "T-value: -3.5383407969933938\n",
      "P-value: 0.004083270191713912\n",
      "Rechazo H0\n"
     ]
    }
   ],
   "source": [
    "\n",
    "# TODO\n",
    "diet1 =[2.0, 2.5, 3.0, 2.8, 2.3, 2.7, 2.5]\n",
    "diet2 =[3.0, 3.2, 3.1, 2.9, 2.8, 3.0, 3.2]\n",
    "\n",
    "t_value, p_value = ttest_ind(diet1, diet2, alternative='two-sided')\n",
    "\n",
    "print(f\"T-value: {t_value}\")\n",
    "print(f\"P-value: {p_value}\")\n",
    "if p_value < 0.05:\n",
    "    print(\"Rechazo H0\")\n",
    "elif p_value >= 0.05:\n",
    "    print(\"Fallo del rechazo de H0\")\n"
   ]
  },
  {
   "cell_type": "markdown",
   "id": "6f15d2c2",
   "metadata": {},
   "source": [
    "### Conclusión\n",
    "Segun los datos obtenidos,se observa una diferencia estadísticamente significativa entre los efectos de la dieta 1 y la dieta 2 sobre la pérdida de peso. Los valores promedio de la dieta 2 son consistentemente más altos, lo que sugiere que esta dieta podría estar asociada con una mayor pérdida de peso."
   ]
  },
  {
   "cell_type": "markdown",
   "id": "f432e18e",
   "metadata": {},
   "source": [
    "## ANOVA\n",
    "\n",
    "**ANOVA** (*Analysis of Variance - Análisis de variación*) Es una técnica estadística utilizada para comparar las medidas de dos o más grupos. La idea detrás de ANOVA es descomponer la variabilidad total de los datos en dos componentes: variabilidad entre grupos y variabilidad dentro de los grupos:\n",
    "\n",
    "- **Variabilidad entre grupos**: Esta variabilidad se refiere a las diferencias entre las medias del grupo. Si esta variabilidad es considerablemente mayor que la variabilidad dentro del grupo, podría ser una indicación de que al menos una de las medias del grupo es diferente.\n",
    "- **Variabilidad dentro del grupo**: Esta variabilidad se refiere a la dispersión de los datos dentro de cada grupo. Si todos los grupos tienen una variabilidad similar, entonces cualquier diferencia notable en las medias de los grupos podría considerarse significativa.\n",
    "\n",
    "Las hipótesis en ANOVA suelen incluir:\n",
    "\n",
    "- **Hipótesis nula** ($H₀$): Las medias de todos los grupos son iguales.\n",
    "- **Hipótesis alternativa** ($H₁$): Al menos una de las medias del grupo es diferente.\n",
    "\n",
    "Si el resultado de la prueba ANOVA es significativo (por ejemplo, un valor p inferior a un umbral como 0,05), esto sugiere que al menos la media de un grupo es diferente."
   ]
  },
  {
   "cell_type": "markdown",
   "id": "fc5f3721",
   "metadata": {},
   "source": [
    "## Ejercicio 2\n",
    "\n",
    "Un agricultor decide probar tres tipos diferentes de fertilizantes para determinar si alguno es superior en términos de producción de maíz. El agricultor planta maíz en 15 parcelas idénticas y utiliza los tres fertilizantes (5 parcelas para cada tipo). Al final de la temporada mide el rendimiento de maíz (en kg) de cada parcela, con el siguiente resultado:\n",
    "\n",
    "| Fertilizante 1 | Fertilizante 2 | Fertilizante 3 |\n",
    "|:-------------|:-------------|:-------------|\n",
    "| 20 | 22 | 24 |\n",
    "| 21 | 21 | 23 |\n",
    "| 20 | 23 | 22 |\n",
    "| 19 | 22 | 23 |\n",
    "| 20 | 21 | 24 |\n",
    "\n",
    "Con estos datos busca responder la siguiente pregunta: ¿Existe una diferencia significativa en el rendimiento promedio del maíz entre los tres tipos de fertilizantes?\n",
    "\n",
    "Para ayudarte, sigue los siguientes puntos:\n",
    "\n",
    "-Enunciar la hipótesis: hipótesis nula y alternativa.\n",
    "-Realizar la prueba ANOVA.\n",
    "-Analizar las conclusiones.\n",
    "-Si un fertilizante es mejor que otro, ¿cómo podemos saberlo?"
   ]
  },
  {
   "cell_type": "markdown",
   "id": "30dca628",
   "metadata": {},
   "source": [
    "### Hipotesis: \n",
    "H0 = no hay diferencia de rendimiento entre los tres tipos de fertilizantes\n",
    "H1 = Hay diferencia de rendimiento entre los tres tipos de fertilizantes"
   ]
  },
  {
   "cell_type": "code",
   "execution_count": 6,
   "id": "e4e5b834",
   "metadata": {},
   "outputs": [],
   "source": [
    "from scipy.stats import f_oneway\n"
   ]
  },
  {
   "cell_type": "code",
   "execution_count": 9,
   "id": "eecad0ca",
   "metadata": {},
   "outputs": [
    {
     "name": "stdout",
     "output_type": "stream",
     "text": [
      "F-value: 20.31578947368421\n",
      "P_value: 0.000140478247931904\n",
      "Rechazo H0\n"
     ]
    }
   ],
   "source": [
    "fert1 = [20,21,20,19,20]\n",
    "fert2 = [22,21,23,22,21]\n",
    "fert3 = [24,23,22,23,24]\n",
    "\n",
    "f_stat, p_value = stats.f_oneway(fert1, fert2, fert3)\n",
    "\n",
    "print(f\"F-value: {f_stat}\")\n",
    "print(f\"P_value: {p_value}\")\n",
    "\n",
    "if p_value < 0.05:\n",
    "    print(\"Rechazo H0\")\n",
    "elif p_value >= 0.05:\n",
    "    print(\"Fallo del rechazo de H0\")"
   ]
  },
  {
   "cell_type": "markdown",
   "id": "6febc460",
   "metadata": {},
   "source": [
    "### Conclusión\n",
    "\n",
    "Dado que el P-value es inferior al nivel de sigificacion, esto indica que existen diferencias estadísticamente significativas entre al menos dos de las medias de los grupos de fertilizantes analizados."
   ]
  },
  {
   "cell_type": "code",
   "execution_count": 10,
   "id": "13a41168",
   "metadata": {},
   "outputs": [
    {
     "name": "stdout",
     "output_type": "stream",
     "text": [
      "Multiple Comparison of Means - Tukey HSD, FWER=0.05\n",
      "==================================================\n",
      "group1 group2 meandiff p-adj  lower  upper  reject\n",
      "--------------------------------------------------\n",
      " fert1  fert2      1.8 0.0099 0.4572 3.1428   True\n",
      " fert1  fert3      3.2 0.0001 1.8572 4.5428   True\n",
      " fert2  fert3      1.4 0.0409 0.0572 2.7428   True\n",
      "--------------------------------------------------\n"
     ]
    }
   ],
   "source": [
    "from statsmodels.stats.multicomp import pairwise_tukeyhsd\n",
    "\n",
    "# Unimos los datos\n",
    "valores = fert1 + fert2 + fert3\n",
    "grupos = ['fert1']*len(fert1) + ['fert2']*len(fert2) + ['fert3']*len(fert3)\n",
    "\n",
    "# Prueba de Tukey\n",
    "tukey = pairwise_tukeyhsd(endog=valores, groups=grupos, alpha=0.05)\n",
    "print(tukey)\n"
   ]
  },
  {
   "cell_type": "markdown",
   "id": "8e99d490",
   "metadata": {},
   "source": [
    "### Conclusiones \n",
    "\n",
    "Fertilizante 1: tiene la media más baja y menor variabilidad.\n",
    "\n",
    "Fertilizante 2: mejora un poco, pero sigue por debajo del tercero.\n",
    "\n",
    "Fertilizante 3: tiene la media más alta lo que sugiere mayor rendimiento y consistencia."
   ]
  },
  {
   "cell_type": "code",
   "execution_count": null,
   "id": "38609603",
   "metadata": {},
   "outputs": [
    {
     "data": {
      "image/png": "[encoded data removed]",
      "text/plain": [
       "<Figure size 800x600 with 1 Axes>"
      ]
     },
     "metadata": {},
     "output_type": "display_data"
    }
   ],
   "source": [
    "import numpy as np\n",
    "\n",
    "medias = [np.mean(fert1), np.mean(fert2), np.mean(fert3)]\n",
    "\n",
    "plt.figure(figsize=(8,6))\n",
    "plt.bar(['Fertilizante 1', 'Fertilizante 2', 'Fertilizante 3'],\n",
    "        medias, capsize=5, color=['skyblue','lightgreen','salmon'])\n",
    "plt.ylabel('Rendimiento promedio')\n",
    "plt.title('Comparación del rendimiento promedio entre fertilizantes')\n",
    "plt.show()"
   ]
  }
 ],
 "metadata": {
  "kernelspec": {
   "display_name": "Python 3",
   "language": "python",
   "name": "python3"
  },
  "language_info": {
   "codemirror_mode": {
    "name": "ipython",
    "version": 3
   },
   "file_extension": ".py",
   "mimetype": "text/x-python",
   "name": "python",
   "nbconvert_exporter": "python",
   "pygments_lexer": "ipython3",
   "version": "3.11.4"
  }
 },
 "nbformat": 4,
 "nbformat_minor": 5
}
